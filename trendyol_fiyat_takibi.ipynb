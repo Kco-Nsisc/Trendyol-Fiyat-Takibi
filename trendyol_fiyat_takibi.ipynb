{
 "cells": [
  {
   "cell_type": "code",
   "execution_count": 1,
   "metadata": {},
   "outputs": [
    {
     "name": "stdout",
     "output_type": "stream",
     "text": [
      "Takip etmek istediğiniz ürünün linkini yazınız. https://www.trendyol.com/luis-polo/set-p1217h-bh-01_p1219h-bh-03-kadin-saat-seti-p-123927459?boutiqueId=577217&merchantId=105151\n",
      "Ürünün kaç TL ye düşmesini istiyorsunuz? 100\n",
      "Gmail hesabınızı yazınız. bal496030@gmail.com\n",
      "Mail başarılı bir şekilde gönderildi.\n"
     ]
    }
   ],
   "source": [
    "import requests\n",
    "from bs4 import BeautifulSoup\n",
    "import smtplib\n",
    "from email.mime.multipart import MIMEMultipart\n",
    "from email.mime.text import MIMEText\n",
    "import sys\n",
    "import time\n",
    "\n",
    "url1 = input(\"Takip etmek istediğiniz ürünün linkini yazınız. \")\n",
    "\n",
    "\n",
    "istenilenFiyat = int(input(\"Ürünün kaç TL ye düşmesini istiyorsunuz? \"))\n",
    "\n",
    "ePosta = input(\"Gmail hesabınızı yazınız. \")\n",
    "\n",
    "\n",
    "while True:\n",
    "    try:\n",
    "        sayfaKodlari = requests.get(url1)\n",
    "\n",
    "        sayfaKodlariHtml = BeautifulSoup(sayfaKodlari.content, \"html.parser\")\n",
    "\n",
    "        urunAdi = sayfaKodlariHtml.find(\"h1\", class_=\"pr-new-br\").getText()\n",
    "    \n",
    "        fiyat = sayfaKodlariHtml.find(\"span\", class_=\"prc-dsc\").getText()\n",
    "\n",
    "        ondalikliFiyat = float(fiyat.replace(\",\",\".\").replace(\" TL\",\"\"))\n",
    "    except:\n",
    "        sayfaKodlari = requests.get(url1)\n",
    "\n",
    "        sayfaKodlariHtml = BeautifulSoup(sayfaKodlari.content, \"html.parser\")\n",
    "\n",
    "        urunAdi = sayfaKodlariHtml.find(\"h1\", class_=\"pr-new-br\").getText()\n",
    "\n",
    "        fiyat = sayfaKodlariHtml.find(\"span\", class_=\"prc-slg\").getText()\n",
    "\n",
    "        ondalikliFiyat = float(fiyat.replace(\",\",\".\").replace(\" TL\",\"\"))\n",
    "\n",
    "    if ondalikliFiyat <= istenilenFiyat:\n",
    "        try:\n",
    "            mail = smtplib.SMTP(\"smtp.gmail.com\",587)\n",
    "            mail.ehlo()\n",
    "            mail.starttls()\n",
    "            mail.login(\"hh3677357@gmail.com\", \"gerçeksifreyiveremem:)\")\n",
    "\n",
    "            mesaj = MIMEMultipart()\n",
    "            mesaj[\"From\"] = \"hh3677357@gmail.com\"           \n",
    "            mesaj[\"Subject\"] = \"Takip edilen ürünün fiyatı düştü\"    \n",
    "            mesaj[\"To\"] = ePosta         \n",
    "            body = f\"\"\"\n",
    "\n",
    "            {url1} linkindeki ürün belirtilen fiyatın altında.\n",
    "            \"\"\"\n",
    "\n",
    "            body_text = MIMEText(body, \"plain\")  \n",
    "            mesaj.attach(body_text)\n",
    "\n",
    "            mail.sendmail(mesaj[\"From\"], mesaj[\"To\"], mesaj.as_string())\n",
    "            print(\"Mail başarılı bir şekilde gönderildi.\")\n",
    "            mail.close()\n",
    "            break\n",
    "            programBaslamaSaati = programBaslamaSaati + 2\n",
    "        except:\n",
    "            print(\"Hata:\", sys.exc_info()[0])\n",
    "    time.sleep(7200)"
   ]
  }
 ],
 "metadata": {
  "kernelspec": {
   "display_name": "Python 3",
   "language": "python",
   "name": "python3"
  },
  "language_info": {
   "codemirror_mode": {
    "name": "ipython",
    "version": 3
   },
   "file_extension": ".py",
   "mimetype": "text/x-python",
   "name": "python",
   "nbconvert_exporter": "python",
   "pygments_lexer": "ipython3",
   "version": "3.8.5"
  }
 },
 "nbformat": 4,
 "nbformat_minor": 4
}
